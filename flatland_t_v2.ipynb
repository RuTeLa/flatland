{
  "nbformat": 4,
  "nbformat_minor": 0,
  "metadata": {
    "accelerator": "GPU",
    "colab": {
      "name": "mobilz.ipynb",
      "provenance": [],
      "collapsed_sections": [],
      "toc_visible": true
    },
    "kernelspec": {
      "display_name": "Python 3",
      "name": "python3"
    }
  },
  "cells": [
    {
      "cell_type": "code",
      "metadata": {
        "id": "vtTuYuLwI9jf"
      },
      "source": [
        "import os                                                                       #Rūtos_Ciparytės\n",
        "import time\n",
        "import numpy as np\n",
        "import tensorflow as tf\n",
        "#from datetime import datetime [time and datetime for 'tensorboard']\n",
        "import matplotlib.pyplot as plt\n",
        "import tensorflow.keras as keras\n",
        "from tensorflow.keras.optimizers import Adam\n",
        "from tensorflow.keras.models import Sequential\n",
        "from tensorflow.keras import layers, Model\n",
        "#from tensorflow.keras.preprocessing.image import ImageDataGenerator []\n",
        "from tensorflow.keras.layers import Dense, Input, Flatten, Conv2D,ZeroPadding2D"
      ],
      "execution_count": 1,
      "outputs": []
    },
    {
      "cell_type": "code",
      "metadata": {
        "id": "3KBi9b-vNxkl"
      },
      "source": [
        "%load_ext tensorboard\n",
        "from tensorflow.keras.callbacks import TensorBoard"
      ],
      "execution_count": 2,
      "outputs": []
    },
    {
      "cell_type": "code",
      "metadata": {
        "colab": {
          "base_uri": "https://localhost:8080/"
        },
        "id": "RzboPO7OsgYN",
        "outputId": "3329b916-a0de-475e-b910-eb68b4fa1413"
      },
      "source": [
        "from google.colab import drive\n",
        "drive.mount('/content/drive') #let's mount the drive"
      ],
      "execution_count": 3,
      "outputs": [
        {
          "output_type": "stream",
          "text": [
            "Mounted at /content/drive\n"
          ],
          "name": "stdout"
        }
      ]
    },
    {
      "cell_type": "code",
      "metadata": {
        "colab": {
          "base_uri": "https://localhost:8080/"
        },
        "id": "1LdFavyoJFXv",
        "outputId": "e6621596-efb8-4a34-a733-d8ca98480860"
      },
      "source": [
        "cwd = os.getcwd()\n",
        "print(cwd)\n",
        "os.listdir(os.getcwd())"
      ],
      "execution_count": 3,
      "outputs": [
        {
          "output_type": "stream",
          "text": [
            "/content\n"
          ],
          "name": "stdout"
        },
        {
          "output_type": "execute_result",
          "data": {
            "text/plain": [
              "['.config', 'drive', 'sample_data']"
            ]
          },
          "metadata": {
            "tags": []
          },
          "execution_count": 3
        }
      ]
    },
    {
      "cell_type": "code",
      "metadata": {
        "id": "XL2Ugbyk3Oym"
      },
      "source": [
        "import gzip\n",
        "import pickle\n",
        "\n",
        "X,y = pickle.load(gzip.open('/content/drive/MyDrive/flatland_train.data','rb'))\n",
        "\n",
        "y[y != 0] -= 2\n",
        "X = X.reshape(X.shape[0], 50, 50, 1) / 255.0"
      ],
      "execution_count": 4,
      "outputs": []
    },
    {
      "cell_type": "code",
      "metadata": {
        "colab": {
          "base_uri": "https://localhost:8080/"
        },
        "id": "kQlX8Xq3u-bL",
        "outputId": "f8a2c62d-349d-4303-870a-de6b40145a55"
      },
      "source": [
        "mob = keras.applications.MobileNetV2(weights='imagenet', include_top=False, input_shape=(160, 160, 3),classifier_activation=\"softmax\")\n",
        "\n",
        "\n",
        "# Let's keep those weights\n",
        "for layer in mob.layers:\n",
        "    layer.trainable = False\n",
        "\n",
        "    \n",
        "# Adding new trainable layers\n",
        "inputs = keras.layers.Input(shape=(50, 50, 1)) #grayscale\n",
        "upscale = keras.layers.UpSampling2D((3,3))(inputs) #50->150\n",
        "padding = keras.layers.ZeroPadding2D((6,6))(upscale) #the site does not like padding :? [well I guess that was the reason for an error]\n",
        "\n",
        "#con_31 = keras.layers.Conv2D(3, kernel_size=(3, 3), activation='relu')(padding) #these two layer make model even less accurate >;C\n",
        "#con_2 = keras.layers.Conv2D(2, kernel_size=(3, 3), activation='relu')(con_31)\n",
        "con_3 = keras.layers.Conv2D(3, kernel_size=(3, 3), activation='relu')(padding)\n",
        "\n",
        "embedding = mob(con_3)\n",
        "\n",
        "flatten = keras.layers.Flatten()(embedding)\n",
        "#the model on it's own reaches great results [by only adding 2 additional layers having parameters]\n",
        "#dropout = keras.layers.Dropout(0.25)(flatten)\n",
        "#norma = keras.layers.BatchNormalization(axis=-1)(flatten) welp it just starts guessing....\n",
        "#dense8 = keras.layers.Dense(8, activation=\"relu\")(dropout)\n",
        "#norma = keras.layers.BatchNormalization(axis=-1)(dense8)\n",
        "#output = keras.layers.Dense(16, activation='relu')(norma)\n",
        "output = keras.layers.Dense(5, activation='softmax')(flatten)\n",
        "\n",
        "# Build the model\n",
        "model = keras.models.Model(inputs=inputs, outputs=output)\n",
        "model.summary()"
      ],
      "execution_count": 5,
      "outputs": [
        {
          "output_type": "stream",
          "text": [
            "Model: \"functional_1\"\n",
            "_________________________________________________________________\n",
            "Layer (type)                 Output Shape              Param #   \n",
            "=================================================================\n",
            "input_2 (InputLayer)         [(None, 50, 50, 1)]       0         \n",
            "_________________________________________________________________\n",
            "up_sampling2d (UpSampling2D) (None, 150, 150, 1)       0         \n",
            "_________________________________________________________________\n",
            "zero_padding2d (ZeroPadding2 (None, 162, 162, 1)       0         \n",
            "_________________________________________________________________\n",
            "conv2d (Conv2D)              (None, 160, 160, 3)       30        \n",
            "_________________________________________________________________\n",
            "mobilenetv2_1.00_160 (Functi (None, 5, 5, 1280)        2257984   \n",
            "_________________________________________________________________\n",
            "flatten (Flatten)            (None, 32000)             0         \n",
            "_________________________________________________________________\n",
            "dense (Dense)                (None, 5)                 160005    \n",
            "=================================================================\n",
            "Total params: 2,418,019\n",
            "Trainable params: 160,035\n",
            "Non-trainable params: 2,257,984\n",
            "_________________________________________________________________\n"
          ],
          "name": "stdout"
        }
      ]
    },
    {
      "cell_type": "code",
      "metadata": {
        "id": "Ks8-3ltTgrk4"
      },
      "source": [
        "#NAME = \"wazhojam-{}\".format(int(time.time()))\n",
        "#tensorboard = TensorBoard(log_dir=\"logs/{}\".format(NAME))\n",
        "model.compile(loss=\"sparse_categorical_crossentropy\",\n",
        "              optimizer=Adam(3e-4),\n",
        "              metrics=[\"accuracy\"])"
      ],
      "execution_count": 8,
      "outputs": []
    },
    {
      "cell_type": "code",
      "metadata": {
        "id": "Ci9EmuVwB-yk"
      },
      "source": [
        "#X.shape"
      ],
      "execution_count": null,
      "outputs": []
    },
    {
      "cell_type": "code",
      "metadata": {
        "id": "rPcU8fiqA5Js"
      },
      "source": [
        "#X=np.repeat(X,3,axis=-1) / 255.0 #welp wont need it anymore because of 'con_3' layer"
      ],
      "execution_count": 14,
      "outputs": []
    },
    {
      "cell_type": "code",
      "metadata": {
        "colab": {
          "base_uri": "https://localhost:8080/"
        },
        "id": "TIzUV4a-JmS9",
        "outputId": "7a71267c-6129-4103-c531-e9661824a0f0"
      },
      "source": [
        "loss = model.fit(X, y, epochs=10, batch_size=32, validation_split=0.15) #callbacks=[tensorboard]"
      ],
      "execution_count": 9,
      "outputs": [
        {
          "output_type": "stream",
          "text": [
            "Epoch 1/10\n",
            "266/266 [==============================] - 19s 70ms/step - loss: 0.0513 - accuracy: 0.9828 - val_loss: 0.0018 - val_accuracy: 1.0000\n",
            "Epoch 2/10\n",
            "266/266 [==============================] - 18s 66ms/step - loss: 0.0010 - accuracy: 1.0000 - val_loss: 9.2144e-04 - val_accuracy: 1.0000\n",
            "Epoch 3/10\n",
            "266/266 [==============================] - 18s 66ms/step - loss: 4.9408e-04 - accuracy: 1.0000 - val_loss: 5.2153e-04 - val_accuracy: 1.0000\n",
            "Epoch 4/10\n",
            "266/266 [==============================] - 17s 66ms/step - loss: 3.0091e-04 - accuracy: 1.0000 - val_loss: 3.6588e-04 - val_accuracy: 1.0000\n",
            "Epoch 5/10\n",
            "266/266 [==============================] - 17s 65ms/step - loss: 2.0232e-04 - accuracy: 1.0000 - val_loss: 2.6550e-04 - val_accuracy: 1.0000\n",
            "Epoch 6/10\n",
            "266/266 [==============================] - 17s 65ms/step - loss: 1.4564e-04 - accuracy: 1.0000 - val_loss: 2.0224e-04 - val_accuracy: 1.0000\n",
            "Epoch 7/10\n",
            "266/266 [==============================] - 17s 66ms/step - loss: 1.0955e-04 - accuracy: 1.0000 - val_loss: 1.6784e-04 - val_accuracy: 1.0000\n",
            "Epoch 8/10\n",
            "266/266 [==============================] - 17s 66ms/step - loss: 8.4979e-05 - accuracy: 1.0000 - val_loss: 1.3126e-04 - val_accuracy: 1.0000\n",
            "Epoch 9/10\n",
            "266/266 [==============================] - 17s 66ms/step - loss: 6.7134e-05 - accuracy: 1.0000 - val_loss: 1.0890e-04 - val_accuracy: 1.0000\n",
            "Epoch 10/10\n",
            "266/266 [==============================] - 17s 65ms/step - loss: 5.4412e-05 - accuracy: 1.0000 - val_loss: 8.9987e-05 - val_accuracy: 1.0000\n"
          ],
          "name": "stdout"
        }
      ]
    },
    {
      "cell_type": "code",
      "metadata": {
        "colab": {
          "base_uri": "https://localhost:8080/",
          "height": 838
        },
        "id": "7BQQSSa86WXa",
        "outputId": "5f2b2515-9b28-42c8-864c-94a543ed7c2e"
      },
      "source": [
        "%tensorboard --logdir logs"
      ],
      "execution_count": null,
      "outputs": []
    },
    {
      "cell_type": "code",
      "metadata": {
        "id": "AjdrXsRbJojO"
      },
      "source": [
        "#pd.DataFrame(loss.history).plot() minimalistic"
      ],
      "execution_count": null,
      "outputs": []
    },
    {
      "cell_type": "code",
      "metadata": {
        "id": "gbQ3Ie4_Qlhz"
      },
      "source": [
        "model.save('model.h5')"
      ],
      "execution_count": null,
      "outputs": []
    },
    {
      "cell_type": "code",
      "metadata": {
        "colab": {
          "base_uri": "https://localhost:8080/",
          "height": 17
        },
        "id": "KXwyL5FVQx8N",
        "outputId": "0594f27b-e313-414c-d41b-65c37c730d0d"
      },
      "source": [
        "from google.colab import files\n",
        "files.download('model.h5')"
      ],
      "execution_count": null,
      "outputs": [
        {
          "output_type": "display_data",
          "data": {
            "application/javascript": [
              "\n",
              "    async function download(id, filename, size) {\n",
              "      if (!google.colab.kernel.accessAllowed) {\n",
              "        return;\n",
              "      }\n",
              "      const div = document.createElement('div');\n",
              "      const label = document.createElement('label');\n",
              "      label.textContent = `Downloading \"${filename}\": `;\n",
              "      div.appendChild(label);\n",
              "      const progress = document.createElement('progress');\n",
              "      progress.max = size;\n",
              "      div.appendChild(progress);\n",
              "      document.body.appendChild(div);\n",
              "\n",
              "      const buffers = [];\n",
              "      let downloaded = 0;\n",
              "\n",
              "      const channel = await google.colab.kernel.comms.open(id);\n",
              "      // Send a message to notify the kernel that we're ready.\n",
              "      channel.send({})\n",
              "\n",
              "      for await (const message of channel.messages) {\n",
              "        // Send a message to notify the kernel that we're ready.\n",
              "        channel.send({})\n",
              "        if (message.buffers) {\n",
              "          for (const buffer of message.buffers) {\n",
              "            buffers.push(buffer);\n",
              "            downloaded += buffer.byteLength;\n",
              "            progress.value = downloaded;\n",
              "          }\n",
              "        }\n",
              "      }\n",
              "      const blob = new Blob(buffers, {type: 'application/binary'});\n",
              "      const a = document.createElement('a');\n",
              "      a.href = window.URL.createObjectURL(blob);\n",
              "      a.download = filename;\n",
              "      div.appendChild(a);\n",
              "      a.click();\n",
              "      div.remove();\n",
              "    }\n",
              "  "
            ],
            "text/plain": [
              "<IPython.core.display.Javascript object>"
            ]
          },
          "metadata": {
            "tags": []
          }
        },
        {
          "output_type": "display_data",
          "data": {
            "application/javascript": [
              "download(\"download_0295b03f-b910-4de7-9ad1-13fc67ec87c8\", \"model.h5\", 40739680)"
            ],
            "text/plain": [
              "<IPython.core.display.Javascript object>"
            ]
          },
          "metadata": {
            "tags": []
          }
        }
      ]
    },
    {
      "cell_type": "code",
      "metadata": {
        "id": "nzZhR7iBRXcj"
      },
      "source": [
        "'''\n",
        "import gzip\n",
        "import pickle\n",
        "\n",
        "def evaluate(path, model):\n",
        "    X, y = pickle.load(gzip.open(path, 'rb'))\n",
        "    y[y != 0] -= 2\n",
        "    X = X / 255.\n",
        "    acc = np.mean(model(X).numpy().argmax(axis=1) == y)\n",
        "    return acc\n",
        "\n",
        "model = keras.models.load_model('/content/model.h5')\n",
        "evaluate('/content/drive/MyDrive/flatland_train.data', model)\n",
        "'''\n",
        "#the part of the code which is actually not workig :D but oh well\n"
      ],
      "execution_count": null,
      "outputs": []
    }
  ]
}