{
  "nbformat": 4,
  "nbformat_minor": 0,
  "metadata": {
    "colab": {
      "name": "galimas.ipynb",
      "provenance": [],
      "collapsed_sections": []
    },
    "kernelspec": {
      "name": "python3",
      "display_name": "Python 3"
    },
    "accelerator": "GPU"
  },
  "cells": [
    {
      "cell_type": "code",
      "metadata": {
        "id": "vtTuYuLwI9jf"
      },
      "source": [
        "import os                                                                       #Rūtos_Ciparytės\n",
        "import tensorflow.keras as keras\n",
        "from tensorflow.keras.layers import Dense, Flatten, Conv2D, BatchNormalization, \\\n",
        "                                    ZeroPadding2D, MaxPooling2D, Dropout\n",
        "from tensorflow.keras.models import Sequential\n",
        "from tensorflow.keras.optimizers import Adam"
      ],
      "execution_count": null,
      "outputs": []
    },
    {
      "cell_type": "code",
      "metadata": {
        "id": "g1BHEuoHJE1y"
      },
      "source": [
        "#uploaded = files.upload()"
      ],
      "execution_count": null,
      "outputs": []
    },
    {
      "cell_type": "code",
      "metadata": {
        "id": "3FvPa4gLKVtg",
        "colab": {
          "base_uri": "https://localhost:8080/"
        },
        "outputId": "fdb4c148-a3c2-40f9-ab3b-76df4df948cc"
      },
      "source": [
        "from google.colab import drive\n",
        "drive.mount('/content/drive')"
      ],
      "execution_count": null,
      "outputs": [
        {
          "output_type": "stream",
          "text": [
            "Mounted at /content/drive\n"
          ],
          "name": "stdout"
        }
      ]
    },
    {
      "cell_type": "code",
      "metadata": {
        "colab": {
          "base_uri": "https://localhost:8080/"
        },
        "id": "Iop6Q-b2o-KJ",
        "outputId": "727d8e87-dd33-450e-83b9-106e07f362a8"
      },
      "source": [
        "cwd = os.getcwd()\n",
        "print(cwd)\n",
        "os.listdir(os.getcwd())"
      ],
      "execution_count": null,
      "outputs": [
        {
          "output_type": "stream",
          "text": [
            "/content\n"
          ],
          "name": "stdout"
        },
        {
          "output_type": "execute_result",
          "data": {
            "text/plain": [
              "['.config', 'drive', 'sample_data']"
            ]
          },
          "metadata": {
            "tags": []
          },
          "execution_count": 5
        }
      ]
    },
    {
      "cell_type": "code",
      "metadata": {
        "id": "XL2Ugbyk3Oym"
      },
      "source": [
        "import gzip\n",
        "import pickle\n",
        "\n",
        "X,y = pickle.load(gzip.open('/content/drive/MyDrive/flatland_train.data','rb'))\n",
        "y[y != 0] -= 2\n",
        "X = X.reshape(X.shape[0], 50, 50, 1) / 255.0\n"
      ],
      "execution_count": null,
      "outputs": []
    },
    {
      "cell_type": "code",
      "metadata": {
        "id": "_4SfGf_7JcMk"
      },
      "source": [
        "#flatland = pd.read_csv('flatland_train.data',encoding = \"ISO-8859-1\",index_col=None, header=0, engine='python') []"
      ],
      "execution_count": null,
      "outputs": []
    },
    {
      "cell_type": "code",
      "metadata": {
        "id": "ZulwCpbHE1Ww"
      },
      "source": [
        "#one_of_old_models\n",
        "'''\n",
        "model = Sequential()\n",
        "model.add(Conv2D(32, kernel_size=(3, 3), activation='relu', input_shape=[50, 50, 1]))\n",
        "model.add(MaxPooling2D(pool_size=(2, 2)))\n",
        "model.add(Conv2D(64, (3, 3), activation='relu'))\n",
        "#model.add(Dropout(0.25))\n",
        "model.add(Flatten())\n",
        "model.add(Dense(32, activation='relu'))\n",
        "model.add(Dropout(0.5))\n",
        "model.add(Dense(10, activation='softmax'))\n",
        "model.compile(loss=\"sparse_categorical_crossentropy\",\n",
        "              optimizer=keras.optimizers.Adam(),\n",
        "              metrics=[\"accuracy\"])\n",
        "model.summary()\n",
        "'''"
      ],
      "execution_count": null,
      "outputs": []
    },
    {
      "cell_type": "code",
      "metadata": {
        "colab": {
          "base_uri": "https://localhost:8080/"
        },
        "id": "kIepZSsAsI5S",
        "outputId": "cfe3637f-c778-4b02-e40e-f4b9bda350a9"
      },
      "source": [
        "model = Sequential()\n",
        "model.add(Conv2D(64, kernel_size=(3, 3), activation='relu', input_shape=[50, 50, 1]))\n",
        "#model.add(ZeroPadding2D((6, 6)))\n",
        "model.add(Conv2D(64, (3, 3), activation='relu'))\n",
        "#model.add(ZeroPadding2D((1, 1)))\n",
        "\n",
        "model.add(BatchNormalization(axis=-1)) #let's skip some nodes\n",
        "model.add(MaxPooling2D(pool_size=(2, 2)))\n",
        "\n",
        "\n",
        "model.add(Conv2D(128, (3, 3), activation='relu'))\n",
        "#model.add(ZeroPadding2D((1, 1)))\n",
        "model.add(Conv2D(128, kernel_size=(3, 3), activation='relu'))\n",
        "#model.add(ZeroPadding2D((1, 1)))\n",
        "model.add(Conv2D(128, kernel_size=(3, 3), activation='relu'))\n",
        "#model.add(ZeroPadding2D((1, 1)))\n",
        "model.add(Conv2D(128, kernel_size=(3, 3), activation='relu'))\n",
        "\n",
        "model.add(MaxPooling2D((2, 2)))\n",
        "\n",
        "\n",
        "\n",
        "model.add(Flatten())\n",
        "model.add(Dense(5, activation='softmax'))\n",
        "model.compile(loss=\"sparse_categorical_crossentropy\",\n",
        "              optimizer=Adam(learning_rate=3e-4),\n",
        "              metrics=[\"accuracy\"])\n",
        "model.summary()"
      ],
      "execution_count": null,
      "outputs": [
        {
          "output_type": "stream",
          "text": [
            "Model: \"sequential_4\"\n",
            "_________________________________________________________________\n",
            "Layer (type)                 Output Shape              Param #   \n",
            "=================================================================\n",
            "conv2d_16 (Conv2D)           (None, 48, 48, 64)        640       \n",
            "_________________________________________________________________\n",
            "conv2d_17 (Conv2D)           (None, 46, 46, 64)        36928     \n",
            "_________________________________________________________________\n",
            "batch_normalization_2 (Batch (None, 46, 46, 64)        256       \n",
            "_________________________________________________________________\n",
            "max_pooling2d_5 (MaxPooling2 (None, 23, 23, 64)        0         \n",
            "_________________________________________________________________\n",
            "conv2d_18 (Conv2D)           (None, 21, 21, 128)       73856     \n",
            "_________________________________________________________________\n",
            "conv2d_19 (Conv2D)           (None, 19, 19, 128)       147584    \n",
            "_________________________________________________________________\n",
            "conv2d_20 (Conv2D)           (None, 17, 17, 128)       147584    \n",
            "_________________________________________________________________\n",
            "conv2d_21 (Conv2D)           (None, 15, 15, 128)       147584    \n",
            "_________________________________________________________________\n",
            "max_pooling2d_6 (MaxPooling2 (None, 7, 7, 128)         0         \n",
            "_________________________________________________________________\n",
            "flatten_4 (Flatten)          (None, 6272)              0         \n",
            "_________________________________________________________________\n",
            "dense_5 (Dense)              (None, 5)                 31365     \n",
            "=================================================================\n",
            "Total params: 585,797\n",
            "Trainable params: 585,669\n",
            "Non-trainable params: 128\n",
            "_________________________________________________________________\n"
          ],
          "name": "stdout"
        }
      ]
    },
    {
      "cell_type": "code",
      "metadata": {
        "id": "nt_mI-0shVfN"
      },
      "source": [
        "#another attempt, but it was giving an 'could not handle the request' on the site https://us-central1-aiprimer.cloudfunctions.net/flatland?model_link=[...]\n",
        "'''\n",
        "model = Sequential()\n",
        "model.add(ZeroPadding2D((6, 6), input_shape=[50, 50, 1])) #adding some padding we don't want to accidentaly lose information\n",
        "model.add(Conv2D(64, kernel_size=(3, 3), activation='relu', name='2_1'))\n",
        "model.add(ZeroPadding2D((1, 1)))\n",
        "model.add(Conv2D(64, kernel_size=(3, 3), activation='relu', name='2_2'))\n",
        "\n",
        "\n",
        "model.add(BatchNormalization(axis=-1)) #let's skip some nodes\n",
        "model.add(MaxPooling2D((2, 2)))\n",
        "\n",
        "model.add(ZeroPadding2D((1, 1)))\n",
        "model.add(Conv2D(128, kernel_size=(3, 3), activation='relu', name='3_1'))\n",
        "model.add(ZeroPadding2D((1, 1)))\n",
        "model.add(Conv2D(128, kernel_size=(3, 3), activation='relu', name='3_2'))\n",
        "model.add(ZeroPadding2D((1, 1)))\n",
        "model.add(Conv2D(128, kernel_size=(3, 3), activation='relu', name='3_3'))\n",
        "\n",
        "model.add(MaxPooling2D((2, 2)))\n",
        "\n",
        "\n",
        "model.add(Flatten()) #dense layers only play with vectors\n",
        "model.add(Dense(5, activation=\"softmax\", name='d5'))\n",
        "\n",
        "\n",
        "#tensorboard = TensorBoard(log_dir=\"logs/{}\".format(NAME)) [well just in case]\n",
        "model.compile(loss=\"sparse_categorical_crossentropy\", \n",
        "              optimizer=Adam(learning_rate=3e-4),\n",
        "              metrics=[\"accuracy\"]) #Adam is superior with this learning rate\n",
        "model.summary()\n",
        "'''"
      ],
      "execution_count": null,
      "outputs": []
    },
    {
      "cell_type": "code",
      "metadata": {
        "id": "s-RmN0aPjht0"
      },
      "source": [
        "#os.environ[\"TF_CPP_MIN_LOG_LEVEL\"] = \"2\""
      ],
      "execution_count": null,
      "outputs": []
    },
    {
      "cell_type": "code",
      "metadata": {
        "id": "TIzUV4a-JmS9",
        "colab": {
          "base_uri": "https://localhost:8080/"
        },
        "outputId": "75fd2a2c-8dc0-45c1-dbea-28a3583bedfc"
      },
      "source": [
        "loss = model.fit(X, y, epochs=10, validation_split=0.1, callbacks=None)"
      ],
      "execution_count": null,
      "outputs": [
        {
          "output_type": "stream",
          "text": [
            "Epoch 1/6\n",
            "282/282 [==============================] - 4s 15ms/step - loss: 1.0328 - accuracy: 0.5488 - val_loss: 0.9784 - val_accuracy: 0.6230\n",
            "Epoch 2/6\n",
            "282/282 [==============================] - 4s 15ms/step - loss: 0.2845 - accuracy: 0.8943 - val_loss: 0.3081 - val_accuracy: 0.8560\n",
            "Epoch 3/6\n",
            "282/282 [==============================] - 4s 15ms/step - loss: 0.0718 - accuracy: 0.9743 - val_loss: 0.0338 - val_accuracy: 0.9960\n",
            "Epoch 4/6\n",
            "282/282 [==============================] - 4s 15ms/step - loss: 0.0478 - accuracy: 0.9838 - val_loss: 0.0339 - val_accuracy: 0.9930\n",
            "Epoch 5/6\n",
            "282/282 [==============================] - 4s 15ms/step - loss: 0.0457 - accuracy: 0.9866 - val_loss: 0.0058 - val_accuracy: 0.9990\n",
            "Epoch 6/6\n",
            "282/282 [==============================] - 4s 14ms/step - loss: 9.1568e-04 - accuracy: 1.0000 - val_loss: 6.0012e-04 - val_accuracy: 1.0000\n"
          ],
          "name": "stdout"
        }
      ]
    },
    {
      "cell_type": "code",
      "metadata": {
        "id": "AjdrXsRbJojO",
        "colab": {
          "base_uri": "https://localhost:8080/",
          "height": 281
        },
        "outputId": "845f1a5c-3188-4677-abde-d8e808d33ead"
      },
      "source": [
        "#pd.DataFrame(loss.history).plot() minimalistic"
      ],
      "execution_count": null,
      "outputs": [
        {
          "output_type": "execute_result",
          "data": {
            "text/plain": [
              "<matplotlib.axes._subplots.AxesSubplot at 0x7f057f664550>"
            ]
          },
          "metadata": {
            "tags": []
          },
          "execution_count": 13
        },
        {
          "output_type": "display_data",
          "data": {
            "image/png": "[encoded data removed]",
            "text/plain": [
              "<Figure size 432x288 with 1 Axes>"
            ]
          },
          "metadata": {
            "tags": [],
            "needs_background": "light"
          }
        }
      ]
    },
    {
      "cell_type": "code",
      "metadata": {
        "id": "KUzEjEwhFzKN"
      },
      "source": [
        "model.save('model.h5')"
      ],
      "execution_count": null,
      "outputs": []
    },
    {
      "cell_type": "code",
      "metadata": {
        "colab": {
          "base_uri": "https://localhost:8080/",
          "height": 17
        },
        "id": "bXk9cdgTGGMm",
        "outputId": "0e54aafc-34c6-4353-b665-e6035f105378"
      },
      "source": [
        "from google.colab import files\n",
        "files.download('model.h5')"
      ],
      "execution_count": null,
      "outputs": [
        {
          "output_type": "display_data",
          "data": {
            "application/javascript": [
              "\n",
              "    async function download(id, filename, size) {\n",
              "      if (!google.colab.kernel.accessAllowed) {\n",
              "        return;\n",
              "      }\n",
              "      const div = document.createElement('div');\n",
              "      const label = document.createElement('label');\n",
              "      label.textContent = `Downloading \"${filename}\": `;\n",
              "      div.appendChild(label);\n",
              "      const progress = document.createElement('progress');\n",
              "      progress.max = size;\n",
              "      div.appendChild(progress);\n",
              "      document.body.appendChild(div);\n",
              "\n",
              "      const buffers = [];\n",
              "      let downloaded = 0;\n",
              "\n",
              "      const channel = await google.colab.kernel.comms.open(id);\n",
              "      // Send a message to notify the kernel that we're ready.\n",
              "      channel.send({})\n",
              "\n",
              "      for await (const message of channel.messages) {\n",
              "        // Send a message to notify the kernel that we're ready.\n",
              "        channel.send({})\n",
              "        if (message.buffers) {\n",
              "          for (const buffer of message.buffers) {\n",
              "            buffers.push(buffer);\n",
              "            downloaded += buffer.byteLength;\n",
              "            progress.value = downloaded;\n",
              "          }\n",
              "        }\n",
              "      }\n",
              "      const blob = new Blob(buffers, {type: 'application/binary'});\n",
              "      const a = document.createElement('a');\n",
              "      a.href = window.URL.createObjectURL(blob);\n",
              "      a.download = filename;\n",
              "      div.appendChild(a);\n",
              "      a.click();\n",
              "      div.remove();\n",
              "    }\n",
              "  "
            ],
            "text/plain": [
              "<IPython.core.display.Javascript object>"
            ]
          },
          "metadata": {
            "tags": []
          }
        },
        {
          "output_type": "display_data",
          "data": {
            "application/javascript": [
              "download(\"download_2947a81a-5922-4ce4-90a7-83a03207a145\", \"model.h5\", 7104232)"
            ],
            "text/plain": [
              "<IPython.core.display.Javascript object>"
            ]
          },
          "metadata": {
            "tags": []
          }
        }
      ]
    },
    {
      "cell_type": "code",
      "metadata": {
        "id": "frkcKsthXqY_"
      },
      "source": [
        "'''\n",
        "import gzip\n",
        "import pickle\n",
        "\n",
        "def evaluate(path, model):\n",
        "    X, y = pickle.load(gzip.open(path, 'rb'))\n",
        "    y[y != 0] -= 2\n",
        "    X = X / 255.\n",
        "    acc = np.mean(model(X).numpy().argmax(axis=1) == y)\n",
        "    return acc\n",
        "\n",
        "model = keras.models.load_model('/content/model.h5')\n",
        "evaluate('/content/drive/MyDrive/flatland_train.data', model)\n",
        "'''"
      ],
      "execution_count": null,
      "outputs": []
    }
  ]
}